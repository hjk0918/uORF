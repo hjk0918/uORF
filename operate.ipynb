{
 "cells": [
  {
   "cell_type": "code",
   "execution_count": null,
   "metadata": {},
   "outputs": [],
   "source": [
    "image_name = '{}sc{:06d}{}.png'.format(some_string, scene_id, some_other_string)\n",
    "corresponding_extrinsic_matrix_name = '{}sc{:06d}{}_RT.txt'.format(some_string, scene_id, some_other_string)"
   ]
  },
  {
   "attachments": {},
   "cell_type": "markdown",
   "metadata": {},
   "source": [
    "### Organize dataset"
   ]
  },
  {
   "cell_type": "code",
   "execution_count": 3,
   "metadata": {},
   "outputs": [],
   "source": [
    "import os\n",
    "import shutil\n",
    "import glob\n",
    "import json\n",
    "import numpy as np\n",
    "\n",
    "dataset_root = '/disk1/sliangal/uORF/dataset'\n",
    "os.makedirs(dataset_root, exist_ok=True)\n",
    "ori_dataset_root = '/disk1/yichen/front3d_ngp/'\n",
    "\n",
    "scene_list = ['3dfront_0110_00']\n",
    "\n",
    "for scene_name in scene_list:\n",
    "    dataset_dir = os.path.join(dataset_root, scene_name)\n",
    "    if os.path.isdir(dataset_dir):\n",
    "        shutil.rmtree(dataset_dir)\n",
    "    os.makedirs(dataset_dir)\n",
    "\n",
    "    splits = scene_name.split('_')\n",
    "    scene_id = f'3dfront_sc{splits[1]}{splits[2]}'\n",
    "\n",
    "    with open(os.path.join(ori_dataset_root, scene_name, 'train/transforms.json'), 'r') as f:\n",
    "        xform_json = json.load(f)\n",
    "    room_bbox = np.array(xform_json['room_bbox'])\n",
    "    center_offset = (room_bbox[1] + room_bbox[0]) / 2\n",
    "\n",
    "    frames = xform_json['frames']\n",
    "    # image_list = sorted(glob.glob(os.path.join(ori_dataset_root, scene_name, 'train/images/*.jpg')))\n",
    "    # assert len(frames)==len(image_list)\n",
    "\n",
    "    for frame in frames:\n",
    "        image_id = frame['file_path'].split('/')[-1].split('.')[0]\n",
    "        frame_name = f'{scene_id}_{image_id}'\n",
    "        shutil.copyfile(os.path.join(ori_dataset_root, scene_name, 'train', frame['file_path']),\n",
    "                        os.path.join(dataset_dir, f'{frame_name}.jpg'))\n",
    "\n",
    "        rt = np.array(frame['transform_matrix'])\n",
    "        rt[:3, 3] -= center_offset\n",
    "        np.savetxt(os.path.join(dataset_dir, f'{frame_name}_RT.txt'), rt)\n",
    "\n"
   ]
  }
 ],
 "metadata": {
  "kernelspec": {
   "display_name": "Python 3",
   "language": "python",
   "name": "python3"
  },
  "language_info": {
   "codemirror_mode": {
    "name": "ipython",
    "version": 3
   },
   "file_extension": ".py",
   "mimetype": "text/x-python",
   "name": "python",
   "nbconvert_exporter": "python",
   "pygments_lexer": "ipython3",
   "version": "3.6.9"
  },
  "orig_nbformat": 4,
  "vscode": {
   "interpreter": {
    "hash": "31f2aee4e71d21fbe5cf8b01ff0e069b9275f58929596ceb00d14d90e3e16cd6"
   }
  }
 },
 "nbformat": 4,
 "nbformat_minor": 2
}
